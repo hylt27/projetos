{
 "cells": [
  {
   "cell_type": "markdown",
   "id": "634bb51e",
   "metadata": {},
   "source": [
    "# Projeto de K Nearest Neighbors\n",
    "\n",
    "# Dados de Sonar\n",
    "\n",
    "## Detectando pedras e/ou minas\n",
    "\n",
    "O sonar é uma técnica que usa som (ondas), normalmente embaixo da água, para navegar, se comunicar ou detectar objetos.\n",
    "\n",
    "O conjunto de dados contém as métricas de resposta para 60 frequências separadas de sonar enviadas contra um campo de minas e pedras conhecido. Essas frequências são então nomeadas de acordo com o objeto em que o som acertou.\n",
    "\n",
    "Nosso objetivo é criar um modelo de machine learning capaz de detectar a diferença entre uma pedra ou uma mina baseado na resposta das 60 frequências do sonar.\n",
    "\n",
    "Fonte dos dados: https://archive.ics.uci.edu/ml/datasets/Connectionist+Bench+(Sonar,+Mines+vs.+Rocks)"
   ]
  },
  {
   "cell_type": "code",
   "execution_count": 1,
   "id": "38f69e39",
   "metadata": {},
   "outputs": [],
   "source": [
    "import numpy as np\n",
    "import pandas as pd\n",
    "import seaborn as sns\n",
    "import matplotlib.pyplot as plt"
   ]
  },
  {
   "cell_type": "markdown",
   "id": "fe64f058",
   "metadata": {},
   "source": [
    "Vamos carregar os dados"
   ]
  },
  {
   "cell_type": "code",
   "execution_count": 2,
   "id": "cede0442",
   "metadata": {},
   "outputs": [],
   "source": [
    "df = pd.read_csv('C:\\\\Users\\\\henri/pythonNotebooks/DATA/sonar.all-data.csv')"
   ]
  },
  {
   "cell_type": "code",
   "execution_count": 121,
   "id": "2bed9e6e",
   "metadata": {},
   "outputs": [
    {
     "data": {
      "text/html": [
       "<div>\n",
       "<style scoped>\n",
       "    .dataframe tbody tr th:only-of-type {\n",
       "        vertical-align: middle;\n",
       "    }\n",
       "\n",
       "    .dataframe tbody tr th {\n",
       "        vertical-align: top;\n",
       "    }\n",
       "\n",
       "    .dataframe thead th {\n",
       "        text-align: right;\n",
       "    }\n",
       "</style>\n",
       "<table border=\"1\" class=\"dataframe\">\n",
       "  <thead>\n",
       "    <tr style=\"text-align: right;\">\n",
       "      <th></th>\n",
       "      <th>Freq_1</th>\n",
       "      <th>Freq_2</th>\n",
       "      <th>Freq_3</th>\n",
       "      <th>Freq_4</th>\n",
       "      <th>Freq_5</th>\n",
       "      <th>Freq_6</th>\n",
       "      <th>Freq_7</th>\n",
       "      <th>Freq_8</th>\n",
       "      <th>Freq_9</th>\n",
       "      <th>Freq_10</th>\n",
       "      <th>...</th>\n",
       "      <th>Freq_53</th>\n",
       "      <th>Freq_54</th>\n",
       "      <th>Freq_55</th>\n",
       "      <th>Freq_56</th>\n",
       "      <th>Freq_57</th>\n",
       "      <th>Freq_58</th>\n",
       "      <th>Freq_59</th>\n",
       "      <th>Freq_60</th>\n",
       "      <th>Label</th>\n",
       "      <th>Target</th>\n",
       "    </tr>\n",
       "  </thead>\n",
       "  <tbody>\n",
       "    <tr>\n",
       "      <th>0</th>\n",
       "      <td>0.0200</td>\n",
       "      <td>0.0371</td>\n",
       "      <td>0.0428</td>\n",
       "      <td>0.0207</td>\n",
       "      <td>0.0954</td>\n",
       "      <td>0.0986</td>\n",
       "      <td>0.1539</td>\n",
       "      <td>0.1601</td>\n",
       "      <td>0.3109</td>\n",
       "      <td>0.2111</td>\n",
       "      <td>...</td>\n",
       "      <td>0.0065</td>\n",
       "      <td>0.0159</td>\n",
       "      <td>0.0072</td>\n",
       "      <td>0.0167</td>\n",
       "      <td>0.0180</td>\n",
       "      <td>0.0084</td>\n",
       "      <td>0.0090</td>\n",
       "      <td>0.0032</td>\n",
       "      <td>R</td>\n",
       "      <td>0</td>\n",
       "    </tr>\n",
       "    <tr>\n",
       "      <th>1</th>\n",
       "      <td>0.0453</td>\n",
       "      <td>0.0523</td>\n",
       "      <td>0.0843</td>\n",
       "      <td>0.0689</td>\n",
       "      <td>0.1183</td>\n",
       "      <td>0.2583</td>\n",
       "      <td>0.2156</td>\n",
       "      <td>0.3481</td>\n",
       "      <td>0.3337</td>\n",
       "      <td>0.2872</td>\n",
       "      <td>...</td>\n",
       "      <td>0.0089</td>\n",
       "      <td>0.0048</td>\n",
       "      <td>0.0094</td>\n",
       "      <td>0.0191</td>\n",
       "      <td>0.0140</td>\n",
       "      <td>0.0049</td>\n",
       "      <td>0.0052</td>\n",
       "      <td>0.0044</td>\n",
       "      <td>R</td>\n",
       "      <td>0</td>\n",
       "    </tr>\n",
       "    <tr>\n",
       "      <th>2</th>\n",
       "      <td>0.0262</td>\n",
       "      <td>0.0582</td>\n",
       "      <td>0.1099</td>\n",
       "      <td>0.1083</td>\n",
       "      <td>0.0974</td>\n",
       "      <td>0.2280</td>\n",
       "      <td>0.2431</td>\n",
       "      <td>0.3771</td>\n",
       "      <td>0.5598</td>\n",
       "      <td>0.6194</td>\n",
       "      <td>...</td>\n",
       "      <td>0.0166</td>\n",
       "      <td>0.0095</td>\n",
       "      <td>0.0180</td>\n",
       "      <td>0.0244</td>\n",
       "      <td>0.0316</td>\n",
       "      <td>0.0164</td>\n",
       "      <td>0.0095</td>\n",
       "      <td>0.0078</td>\n",
       "      <td>R</td>\n",
       "      <td>0</td>\n",
       "    </tr>\n",
       "    <tr>\n",
       "      <th>3</th>\n",
       "      <td>0.0100</td>\n",
       "      <td>0.0171</td>\n",
       "      <td>0.0623</td>\n",
       "      <td>0.0205</td>\n",
       "      <td>0.0205</td>\n",
       "      <td>0.0368</td>\n",
       "      <td>0.1098</td>\n",
       "      <td>0.1276</td>\n",
       "      <td>0.0598</td>\n",
       "      <td>0.1264</td>\n",
       "      <td>...</td>\n",
       "      <td>0.0036</td>\n",
       "      <td>0.0150</td>\n",
       "      <td>0.0085</td>\n",
       "      <td>0.0073</td>\n",
       "      <td>0.0050</td>\n",
       "      <td>0.0044</td>\n",
       "      <td>0.0040</td>\n",
       "      <td>0.0117</td>\n",
       "      <td>R</td>\n",
       "      <td>0</td>\n",
       "    </tr>\n",
       "    <tr>\n",
       "      <th>4</th>\n",
       "      <td>0.0762</td>\n",
       "      <td>0.0666</td>\n",
       "      <td>0.0481</td>\n",
       "      <td>0.0394</td>\n",
       "      <td>0.0590</td>\n",
       "      <td>0.0649</td>\n",
       "      <td>0.1209</td>\n",
       "      <td>0.2467</td>\n",
       "      <td>0.3564</td>\n",
       "      <td>0.4459</td>\n",
       "      <td>...</td>\n",
       "      <td>0.0054</td>\n",
       "      <td>0.0105</td>\n",
       "      <td>0.0110</td>\n",
       "      <td>0.0015</td>\n",
       "      <td>0.0072</td>\n",
       "      <td>0.0048</td>\n",
       "      <td>0.0107</td>\n",
       "      <td>0.0094</td>\n",
       "      <td>R</td>\n",
       "      <td>0</td>\n",
       "    </tr>\n",
       "  </tbody>\n",
       "</table>\n",
       "<p>5 rows × 62 columns</p>\n",
       "</div>"
      ],
      "text/plain": [
       "   Freq_1  Freq_2  Freq_3  Freq_4  Freq_5  Freq_6  Freq_7  Freq_8  Freq_9  \\\n",
       "0  0.0200  0.0371  0.0428  0.0207  0.0954  0.0986  0.1539  0.1601  0.3109   \n",
       "1  0.0453  0.0523  0.0843  0.0689  0.1183  0.2583  0.2156  0.3481  0.3337   \n",
       "2  0.0262  0.0582  0.1099  0.1083  0.0974  0.2280  0.2431  0.3771  0.5598   \n",
       "3  0.0100  0.0171  0.0623  0.0205  0.0205  0.0368  0.1098  0.1276  0.0598   \n",
       "4  0.0762  0.0666  0.0481  0.0394  0.0590  0.0649  0.1209  0.2467  0.3564   \n",
       "\n",
       "   Freq_10  ...  Freq_53  Freq_54  Freq_55  Freq_56  Freq_57  Freq_58  \\\n",
       "0   0.2111  ...   0.0065   0.0159   0.0072   0.0167   0.0180   0.0084   \n",
       "1   0.2872  ...   0.0089   0.0048   0.0094   0.0191   0.0140   0.0049   \n",
       "2   0.6194  ...   0.0166   0.0095   0.0180   0.0244   0.0316   0.0164   \n",
       "3   0.1264  ...   0.0036   0.0150   0.0085   0.0073   0.0050   0.0044   \n",
       "4   0.4459  ...   0.0054   0.0105   0.0110   0.0015   0.0072   0.0048   \n",
       "\n",
       "   Freq_59  Freq_60  Label  Target  \n",
       "0   0.0090   0.0032      R       0  \n",
       "1   0.0052   0.0044      R       0  \n",
       "2   0.0095   0.0078      R       0  \n",
       "3   0.0040   0.0117      R       0  \n",
       "4   0.0107   0.0094      R       0  \n",
       "\n",
       "[5 rows x 62 columns]"
      ]
     },
     "execution_count": 121,
     "metadata": {},
     "output_type": "execute_result"
    }
   ],
   "source": [
    "df.head()"
   ]
  },
  {
   "cell_type": "markdown",
   "id": "966b2833",
   "metadata": {},
   "source": [
    "## Exploração de dados"
   ]
  },
  {
   "cell_type": "markdown",
   "id": "bac4c407",
   "metadata": {},
   "source": [
    "Primeiro vamos criar um heatmap da correlação entre as diferenças de resposta das frequências"
   ]
  },
  {
   "cell_type": "code",
   "execution_count": 11,
   "id": "4f195ca0",
   "metadata": {},
   "outputs": [
    {
     "data": {
      "text/plain": [
       "<AxesSubplot:>"
      ]
     },
     "execution_count": 11,
     "metadata": {},
     "output_type": "execute_result"
    },
    {
     "data": {
      "image/png": "[encoded data removed]",
      "text/plain": [
       "<Figure size 720x432 with 2 Axes>"
      ]
     },
     "metadata": {
      "needs_background": "light"
     },
     "output_type": "display_data"
    }
   ],
   "source": [
    "plt.figure(figsize=(10,6))\n",
    "sns.heatmap(df.corr(),cmap='coolwarm')"
   ]
  },
  {
   "cell_type": "markdown",
   "id": "117fe41b",
   "metadata": {},
   "source": [
    "Vamos ver quais as 5 frequências que possuem maior correlação com a coluna 'Label'. Para isso mapeamos os dados de 'Label' para 0s e 1s e criamos uma nova coluna chamada 'Target'."
   ]
  },
  {
   "cell_type": "code",
   "execution_count": 38,
   "id": "0bd92a77",
   "metadata": {},
   "outputs": [],
   "source": [
    "df['Target'] = df['Label'].map({'R':0, 'M':1})"
   ]
  },
  {
   "cell_type": "code",
   "execution_count": 42,
   "id": "4ef392e3",
   "metadata": {},
   "outputs": [
    {
     "data": {
      "text/html": [
       "<div>\n",
       "<style scoped>\n",
       "    .dataframe tbody tr th:only-of-type {\n",
       "        vertical-align: middle;\n",
       "    }\n",
       "\n",
       "    .dataframe tbody tr th {\n",
       "        vertical-align: top;\n",
       "    }\n",
       "\n",
       "    .dataframe thead th {\n",
       "        text-align: right;\n",
       "    }\n",
       "</style>\n",
       "<table border=\"1\" class=\"dataframe\">\n",
       "  <thead>\n",
       "    <tr style=\"text-align: right;\">\n",
       "      <th></th>\n",
       "      <th>Freq_1</th>\n",
       "      <th>Freq_2</th>\n",
       "      <th>Freq_3</th>\n",
       "      <th>Freq_4</th>\n",
       "      <th>Freq_5</th>\n",
       "      <th>Freq_6</th>\n",
       "      <th>Freq_7</th>\n",
       "      <th>Freq_8</th>\n",
       "      <th>Freq_9</th>\n",
       "      <th>Freq_10</th>\n",
       "      <th>...</th>\n",
       "      <th>Freq_52</th>\n",
       "      <th>Freq_53</th>\n",
       "      <th>Freq_54</th>\n",
       "      <th>Freq_55</th>\n",
       "      <th>Freq_56</th>\n",
       "      <th>Freq_57</th>\n",
       "      <th>Freq_58</th>\n",
       "      <th>Freq_59</th>\n",
       "      <th>Freq_60</th>\n",
       "      <th>Target</th>\n",
       "    </tr>\n",
       "  </thead>\n",
       "  <tbody>\n",
       "    <tr>\n",
       "      <th>Freq_45</th>\n",
       "      <td>0.279968</td>\n",
       "      <td>0.285716</td>\n",
       "      <td>0.180734</td>\n",
       "      <td>0.087824</td>\n",
       "      <td>0.089202</td>\n",
       "      <td>0.085468</td>\n",
       "      <td>0.110813</td>\n",
       "      <td>0.240176</td>\n",
       "      <td>0.320573</td>\n",
       "      <td>0.287459</td>\n",
       "      <td>...</td>\n",
       "      <td>0.350208</td>\n",
       "      <td>0.181292</td>\n",
       "      <td>0.162879</td>\n",
       "      <td>0.242757</td>\n",
       "      <td>0.170750</td>\n",
       "      <td>0.144281</td>\n",
       "      <td>0.167337</td>\n",
       "      <td>0.178402</td>\n",
       "      <td>0.157181</td>\n",
       "      <td>0.339406</td>\n",
       "    </tr>\n",
       "    <tr>\n",
       "      <th>Freq_10</th>\n",
       "      <td>0.318276</td>\n",
       "      <td>0.270782</td>\n",
       "      <td>0.219637</td>\n",
       "      <td>0.237769</td>\n",
       "      <td>0.183219</td>\n",
       "      <td>0.288621</td>\n",
       "      <td>0.425448</td>\n",
       "      <td>0.652525</td>\n",
       "      <td>0.877131</td>\n",
       "      <td>1.000000</td>\n",
       "      <td>...</td>\n",
       "      <td>0.165537</td>\n",
       "      <td>0.097544</td>\n",
       "      <td>0.146725</td>\n",
       "      <td>0.175254</td>\n",
       "      <td>0.151889</td>\n",
       "      <td>0.140327</td>\n",
       "      <td>0.212277</td>\n",
       "      <td>0.058273</td>\n",
       "      <td>0.097358</td>\n",
       "      <td>0.341142</td>\n",
       "    </tr>\n",
       "    <tr>\n",
       "      <th>Freq_49</th>\n",
       "      <td>0.247560</td>\n",
       "      <td>0.313995</td>\n",
       "      <td>0.223074</td>\n",
       "      <td>0.133294</td>\n",
       "      <td>0.088128</td>\n",
       "      <td>0.080729</td>\n",
       "      <td>0.194720</td>\n",
       "      <td>0.271422</td>\n",
       "      <td>0.222135</td>\n",
       "      <td>0.264885</td>\n",
       "      <td>...</td>\n",
       "      <td>0.319286</td>\n",
       "      <td>0.150871</td>\n",
       "      <td>0.195826</td>\n",
       "      <td>0.230033</td>\n",
       "      <td>0.155186</td>\n",
       "      <td>0.173098</td>\n",
       "      <td>0.328238</td>\n",
       "      <td>0.209152</td>\n",
       "      <td>0.088640</td>\n",
       "      <td>0.351312</td>\n",
       "    </tr>\n",
       "    <tr>\n",
       "      <th>Freq_12</th>\n",
       "      <td>0.210861</td>\n",
       "      <td>0.194102</td>\n",
       "      <td>0.214807</td>\n",
       "      <td>0.175381</td>\n",
       "      <td>0.211657</td>\n",
       "      <td>0.344451</td>\n",
       "      <td>0.274432</td>\n",
       "      <td>0.328329</td>\n",
       "      <td>0.363404</td>\n",
       "      <td>0.485392</td>\n",
       "      <td>...</td>\n",
       "      <td>0.117699</td>\n",
       "      <td>0.042263</td>\n",
       "      <td>0.078457</td>\n",
       "      <td>0.164590</td>\n",
       "      <td>0.115658</td>\n",
       "      <td>0.030732</td>\n",
       "      <td>0.065273</td>\n",
       "      <td>0.044614</td>\n",
       "      <td>0.071364</td>\n",
       "      <td>0.392245</td>\n",
       "    </tr>\n",
       "    <tr>\n",
       "      <th>Freq_11</th>\n",
       "      <td>0.344058</td>\n",
       "      <td>0.297065</td>\n",
       "      <td>0.274610</td>\n",
       "      <td>0.271881</td>\n",
       "      <td>0.231684</td>\n",
       "      <td>0.333570</td>\n",
       "      <td>0.396588</td>\n",
       "      <td>0.584583</td>\n",
       "      <td>0.728063</td>\n",
       "      <td>0.853140</td>\n",
       "      <td>...</td>\n",
       "      <td>0.165748</td>\n",
       "      <td>0.084801</td>\n",
       "      <td>0.142572</td>\n",
       "      <td>0.228991</td>\n",
       "      <td>0.122332</td>\n",
       "      <td>0.103405</td>\n",
       "      <td>0.193358</td>\n",
       "      <td>0.067726</td>\n",
       "      <td>0.089695</td>\n",
       "      <td>0.432855</td>\n",
       "    </tr>\n",
       "    <tr>\n",
       "      <th>Target</th>\n",
       "      <td>0.271694</td>\n",
       "      <td>0.231238</td>\n",
       "      <td>0.192195</td>\n",
       "      <td>0.250638</td>\n",
       "      <td>0.222232</td>\n",
       "      <td>0.132327</td>\n",
       "      <td>0.114748</td>\n",
       "      <td>0.189314</td>\n",
       "      <td>0.321448</td>\n",
       "      <td>0.341142</td>\n",
       "      <td>...</td>\n",
       "      <td>0.288651</td>\n",
       "      <td>0.141871</td>\n",
       "      <td>0.182687</td>\n",
       "      <td>0.095639</td>\n",
       "      <td>0.129341</td>\n",
       "      <td>0.000933</td>\n",
       "      <td>0.184191</td>\n",
       "      <td>0.130826</td>\n",
       "      <td>0.090055</td>\n",
       "      <td>1.000000</td>\n",
       "    </tr>\n",
       "  </tbody>\n",
       "</table>\n",
       "<p>6 rows × 61 columns</p>\n",
       "</div>"
      ],
      "text/plain": [
       "           Freq_1    Freq_2    Freq_3    Freq_4    Freq_5    Freq_6    Freq_7  \\\n",
       "Freq_45  0.279968  0.285716  0.180734  0.087824  0.089202  0.085468  0.110813   \n",
       "Freq_10  0.318276  0.270782  0.219637  0.237769  0.183219  0.288621  0.425448   \n",
       "Freq_49  0.247560  0.313995  0.223074  0.133294  0.088128  0.080729  0.194720   \n",
       "Freq_12  0.210861  0.194102  0.214807  0.175381  0.211657  0.344451  0.274432   \n",
       "Freq_11  0.344058  0.297065  0.274610  0.271881  0.231684  0.333570  0.396588   \n",
       "Target   0.271694  0.231238  0.192195  0.250638  0.222232  0.132327  0.114748   \n",
       "\n",
       "           Freq_8    Freq_9   Freq_10  ...   Freq_52   Freq_53   Freq_54  \\\n",
       "Freq_45  0.240176  0.320573  0.287459  ...  0.350208  0.181292  0.162879   \n",
       "Freq_10  0.652525  0.877131  1.000000  ...  0.165537  0.097544  0.146725   \n",
       "Freq_49  0.271422  0.222135  0.264885  ...  0.319286  0.150871  0.195826   \n",
       "Freq_12  0.328329  0.363404  0.485392  ...  0.117699  0.042263  0.078457   \n",
       "Freq_11  0.584583  0.728063  0.853140  ...  0.165748  0.084801  0.142572   \n",
       "Target   0.189314  0.321448  0.341142  ...  0.288651  0.141871  0.182687   \n",
       "\n",
       "          Freq_55   Freq_56   Freq_57   Freq_58   Freq_59   Freq_60    Target  \n",
       "Freq_45  0.242757  0.170750  0.144281  0.167337  0.178402  0.157181  0.339406  \n",
       "Freq_10  0.175254  0.151889  0.140327  0.212277  0.058273  0.097358  0.341142  \n",
       "Freq_49  0.230033  0.155186  0.173098  0.328238  0.209152  0.088640  0.351312  \n",
       "Freq_12  0.164590  0.115658  0.030732  0.065273  0.044614  0.071364  0.392245  \n",
       "Freq_11  0.228991  0.122332  0.103405  0.193358  0.067726  0.089695  0.432855  \n",
       "Target   0.095639  0.129341  0.000933  0.184191  0.130826  0.090055  1.000000  \n",
       "\n",
       "[6 rows x 61 columns]"
      ]
     },
     "execution_count": 42,
     "metadata": {},
     "output_type": "execute_result"
    }
   ],
   "source": [
    "df.corr().sort_values('Target').tail(6)"
   ]
  },
  {
   "cell_type": "markdown",
   "id": "50f7308a",
   "metadata": {},
   "source": [
    "## Train Test Split\n",
    "\n",
    "Faremos agora um train_test_split nos dados. Primeiro deve-se separar os dados em features e labels."
   ]
  },
  {
   "cell_type": "code",
   "execution_count": 48,
   "id": "32b6f820",
   "metadata": {},
   "outputs": [],
   "source": [
    "X = df.drop(labels=['Target','Label'],axis=1)"
   ]
  },
  {
   "cell_type": "code",
   "execution_count": 79,
   "id": "e416d609",
   "metadata": {},
   "outputs": [],
   "source": [
    "y = df['Label']"
   ]
  },
  {
   "cell_type": "code",
   "execution_count": 47,
   "id": "b1e0036c",
   "metadata": {},
   "outputs": [],
   "source": [
    "from sklearn.model_selection import train_test_split"
   ]
  },
  {
   "cell_type": "code",
   "execution_count": 80,
   "id": "deb7fd60",
   "metadata": {},
   "outputs": [],
   "source": [
    "X_train, X_test, y_train, y_test = train_test_split(X, y, test_size=0.1, random_state=42)"
   ]
  },
  {
   "cell_type": "markdown",
   "id": "70c29e26",
   "metadata": {},
   "source": [
    "Importamos StandarScaler para escalonar nossos dados e KNeighborsClassifier que servirá de modelo para classificar o alvo das ondas. Fazemos uso de um Pipeline para realizar as duas operações (escalonar e fitar os dados)."
   ]
  },
  {
   "cell_type": "code",
   "execution_count": 52,
   "id": "5893e663",
   "metadata": {},
   "outputs": [],
   "source": [
    "from sklearn.preprocessing import StandardScaler"
   ]
  },
  {
   "cell_type": "code",
   "execution_count": 53,
   "id": "fe86d884",
   "metadata": {},
   "outputs": [],
   "source": [
    "from sklearn.neighbors import KNeighborsClassifier"
   ]
  },
  {
   "cell_type": "code",
   "execution_count": 81,
   "id": "7ba1559d",
   "metadata": {},
   "outputs": [],
   "source": [
    "scaler = StandardScaler()"
   ]
  },
  {
   "cell_type": "code",
   "execution_count": 82,
   "id": "91a9a4a6",
   "metadata": {},
   "outputs": [],
   "source": [
    "knn = KNeighborsClassifier()"
   ]
  },
  {
   "cell_type": "code",
   "execution_count": 83,
   "id": "f38a4df4",
   "metadata": {},
   "outputs": [],
   "source": [
    "operations = [('scaler',scaler),('knn',knn)]"
   ]
  },
  {
   "cell_type": "code",
   "execution_count": 57,
   "id": "55c00591",
   "metadata": {},
   "outputs": [],
   "source": [
    "from sklearn.pipeline import Pipeline"
   ]
  },
  {
   "cell_type": "code",
   "execution_count": 84,
   "id": "8d555d14",
   "metadata": {},
   "outputs": [],
   "source": [
    "pipe = Pipeline(operations)"
   ]
  },
  {
   "cell_type": "markdown",
   "id": "7d254556",
   "metadata": {},
   "source": [
    "Com um GridSearch procuramos qual o melhor valor de k para o qual KNeighborsClassifier é mais eficiente."
   ]
  },
  {
   "cell_type": "code",
   "execution_count": 59,
   "id": "52410fdd",
   "metadata": {},
   "outputs": [],
   "source": [
    "from sklearn.model_selection import GridSearchCV"
   ]
  },
  {
   "cell_type": "code",
   "execution_count": 85,
   "id": "449aa134",
   "metadata": {},
   "outputs": [],
   "source": [
    "k_values = np.arange(1,30)"
   ]
  },
  {
   "cell_type": "code",
   "execution_count": 86,
   "id": "9cdbb02c",
   "metadata": {},
   "outputs": [
    {
     "data": {
      "text/plain": [
       "array([ 1,  2,  3,  4,  5,  6,  7,  8,  9, 10, 11, 12, 13, 14, 15, 16, 17,\n",
       "       18, 19, 20, 21, 22, 23, 24, 25, 26, 27, 28, 29])"
      ]
     },
     "execution_count": 86,
     "metadata": {},
     "output_type": "execute_result"
    }
   ],
   "source": [
    "k_values"
   ]
  },
  {
   "cell_type": "code",
   "execution_count": 87,
   "id": "65ddbd66",
   "metadata": {},
   "outputs": [],
   "source": [
    "param_grid = {'knn__n_neighbors':k_values}"
   ]
  },
  {
   "cell_type": "code",
   "execution_count": 88,
   "id": "f3e82798",
   "metadata": {},
   "outputs": [],
   "source": [
    "grid_model = GridSearchCV(estimator=pipe,param_grid=param_grid,\n",
    "                         cv=5,scoring='accuracy')"
   ]
  },
  {
   "cell_type": "markdown",
   "id": "43d832a0",
   "metadata": {},
   "source": [
    "Com o GridSearch criado podemos fitar os dados de treinamento e ver quais os melhores parâmetros que foram encontrados."
   ]
  },
  {
   "cell_type": "code",
   "execution_count": 89,
   "id": "32a8b3a5",
   "metadata": {},
   "outputs": [
    {
     "data": {
      "text/plain": [
       "GridSearchCV(cv=5,\n",
       "             estimator=Pipeline(steps=[('scaler', StandardScaler()),\n",
       "                                       ('knn', KNeighborsClassifier())]),\n",
       "             param_grid={'knn__n_neighbors': array([ 1,  2,  3,  4,  5,  6,  7,  8,  9, 10, 11, 12, 13, 14, 15, 16, 17,\n",
       "       18, 19, 20, 21, 22, 23, 24, 25, 26, 27, 28, 29])},\n",
       "             scoring='accuracy')"
      ]
     },
     "execution_count": 89,
     "metadata": {},
     "output_type": "execute_result"
    }
   ],
   "source": [
    "grid_model.fit(X_train,y_train)"
   ]
  },
  {
   "cell_type": "markdown",
   "id": "7b2cd1c5",
   "metadata": {},
   "source": [
    "Vemos que o melhor valor de k é 1 e a métrica usada para medir as distâncias dos dados foi a de minkowski."
   ]
  },
  {
   "cell_type": "code",
   "execution_count": 90,
   "id": "14b6ef4d",
   "metadata": {},
   "outputs": [
    {
     "data": {
      "text/plain": [
       "{'memory': None,\n",
       " 'steps': [('scaler', StandardScaler()),\n",
       "  ('knn', KNeighborsClassifier(n_neighbors=1))],\n",
       " 'verbose': False,\n",
       " 'scaler': StandardScaler(),\n",
       " 'knn': KNeighborsClassifier(n_neighbors=1),\n",
       " 'scaler__copy': True,\n",
       " 'scaler__with_mean': True,\n",
       " 'scaler__with_std': True,\n",
       " 'knn__algorithm': 'auto',\n",
       " 'knn__leaf_size': 30,\n",
       " 'knn__metric': 'minkowski',\n",
       " 'knn__metric_params': None,\n",
       " 'knn__n_jobs': None,\n",
       " 'knn__n_neighbors': 1,\n",
       " 'knn__p': 2,\n",
       " 'knn__weights': 'uniform'}"
      ]
     },
     "execution_count": 90,
     "metadata": {},
     "output_type": "execute_result"
    }
   ],
   "source": [
    "grid_model.best_estimator_.get_params()"
   ]
  },
  {
   "cell_type": "markdown",
   "id": "af0d50c0",
   "metadata": {},
   "source": [
    "Podemos ver o comportamento da acurácia em função dos valores de K."
   ]
  },
  {
   "cell_type": "code",
   "execution_count": 92,
   "id": "e88b68cd",
   "metadata": {},
   "outputs": [],
   "source": [
    "score = grid_model.cv_results_['mean_test_score']"
   ]
  },
  {
   "cell_type": "code",
   "execution_count": 93,
   "id": "06e821e9",
   "metadata": {},
   "outputs": [
    {
     "data": {
      "text/plain": [
       "array([0.84537696, 0.78065434, 0.77524893, 0.75917496, 0.75931721,\n",
       "       0.74822191, 0.75945946, 0.71664296, 0.7113798 , 0.68421053,\n",
       "       0.70042674, 0.68435277, 0.68449502, 0.67908962, 0.69530583,\n",
       "       0.68990043, 0.7113798 , 0.70042674, 0.72204836, 0.67908962,\n",
       "       0.70071124, 0.69530583, 0.69530583, 0.68463727, 0.68477952,\n",
       "       0.67923186, 0.67411095, 0.65775249, 0.6685633 ])"
      ]
     },
     "execution_count": 93,
     "metadata": {},
     "output_type": "execute_result"
    }
   ],
   "source": [
    "score"
   ]
  },
  {
   "cell_type": "code",
   "execution_count": 152,
   "id": "8cd084ed",
   "metadata": {},
   "outputs": [
    {
     "data": {
      "text/plain": [
       "Text(0, 0.5, 'Accuracy')"
      ]
     },
     "execution_count": 152,
     "metadata": {},
     "output_type": "execute_result"
    },
    {
     "data": {
      "image/png": "[encoded data removed]",
      "text/plain": [
       "<Figure size 432x288 with 1 Axes>"
      ]
     },
     "metadata": {
      "needs_background": "light"
     },
     "output_type": "display_data"
    }
   ],
   "source": [
    "plt.plot(k_values,score, marker='o')\n",
    "plt.xlabel('K value')\n",
    "plt.ylabel('Accuracy')"
   ]
  },
  {
   "cell_type": "markdown",
   "id": "f6285417",
   "metadata": {},
   "source": [
    "Finalmente, checamos a performance do modelo que criamos"
   ]
  },
  {
   "cell_type": "code",
   "execution_count": 99,
   "id": "3510fcfd",
   "metadata": {},
   "outputs": [],
   "source": [
    "from sklearn.metrics import confusion_matrix,classification_report"
   ]
  },
  {
   "cell_type": "code",
   "execution_count": 153,
   "id": "a493ec78",
   "metadata": {},
   "outputs": [],
   "source": [
    "y_pred = grid_model.predict(X_test)"
   ]
  },
  {
   "cell_type": "code",
   "execution_count": 100,
   "id": "8466b2e2",
   "metadata": {},
   "outputs": [
    {
     "data": {
      "text/plain": [
       "array([[12,  1],\n",
       "       [ 1,  7]], dtype=int64)"
      ]
     },
     "execution_count": 100,
     "metadata": {},
     "output_type": "execute_result"
    }
   ],
   "source": [
    "confusion_matrix(y_test,y_pred) # Vemos que houve apenas 2 valores que foram classificados de forma errada"
   ]
  },
  {
   "cell_type": "code",
   "execution_count": 101,
   "id": "a02ff9cd",
   "metadata": {},
   "outputs": [
    {
     "name": "stdout",
     "output_type": "stream",
     "text": [
      "              precision    recall  f1-score   support\n",
      "\n",
      "           M       0.92      0.92      0.92        13\n",
      "           R       0.88      0.88      0.88         8\n",
      "\n",
      "    accuracy                           0.90        21\n",
      "   macro avg       0.90      0.90      0.90        21\n",
      "weighted avg       0.90      0.90      0.90        21\n",
      "\n"
     ]
    }
   ],
   "source": [
    "print(classification_report(y_test,y_pred))"
   ]
  },
  {
   "cell_type": "markdown",
   "id": "d4ae1a0e",
   "metadata": {},
   "source": [
    "Agora vamos criar uma amostra para ver como o modelo o classifica."
   ]
  },
  {
   "cell_type": "code",
   "execution_count": 162,
   "id": "bfb17136",
   "metadata": {},
   "outputs": [],
   "source": [
    "sample = pd.DataFrame(np.random.random(size=(1,60)))"
   ]
  },
  {
   "cell_type": "code",
   "execution_count": 163,
   "id": "75f7bf28",
   "metadata": {},
   "outputs": [
    {
     "data": {
      "text/html": [
       "<div>\n",
       "<style scoped>\n",
       "    .dataframe tbody tr th:only-of-type {\n",
       "        vertical-align: middle;\n",
       "    }\n",
       "\n",
       "    .dataframe tbody tr th {\n",
       "        vertical-align: top;\n",
       "    }\n",
       "\n",
       "    .dataframe thead th {\n",
       "        text-align: right;\n",
       "    }\n",
       "</style>\n",
       "<table border=\"1\" class=\"dataframe\">\n",
       "  <thead>\n",
       "    <tr style=\"text-align: right;\">\n",
       "      <th></th>\n",
       "      <th>0</th>\n",
       "      <th>1</th>\n",
       "      <th>2</th>\n",
       "      <th>3</th>\n",
       "      <th>4</th>\n",
       "      <th>5</th>\n",
       "      <th>6</th>\n",
       "      <th>7</th>\n",
       "      <th>8</th>\n",
       "      <th>9</th>\n",
       "      <th>...</th>\n",
       "      <th>50</th>\n",
       "      <th>51</th>\n",
       "      <th>52</th>\n",
       "      <th>53</th>\n",
       "      <th>54</th>\n",
       "      <th>55</th>\n",
       "      <th>56</th>\n",
       "      <th>57</th>\n",
       "      <th>58</th>\n",
       "      <th>59</th>\n",
       "    </tr>\n",
       "  </thead>\n",
       "  <tbody>\n",
       "    <tr>\n",
       "      <th>0</th>\n",
       "      <td>0.222516</td>\n",
       "      <td>0.297566</td>\n",
       "      <td>0.813457</td>\n",
       "      <td>0.561085</td>\n",
       "      <td>0.574562</td>\n",
       "      <td>0.863797</td>\n",
       "      <td>0.099994</td>\n",
       "      <td>0.883532</td>\n",
       "      <td>0.216648</td>\n",
       "      <td>0.348896</td>\n",
       "      <td>...</td>\n",
       "      <td>0.251932</td>\n",
       "      <td>0.673888</td>\n",
       "      <td>0.888065</td>\n",
       "      <td>0.737262</td>\n",
       "      <td>0.070979</td>\n",
       "      <td>0.223358</td>\n",
       "      <td>0.256574</td>\n",
       "      <td>0.541928</td>\n",
       "      <td>0.442406</td>\n",
       "      <td>0.155804</td>\n",
       "    </tr>\n",
       "  </tbody>\n",
       "</table>\n",
       "<p>1 rows × 60 columns</p>\n",
       "</div>"
      ],
      "text/plain": [
       "         0         1         2         3         4         5         6   \\\n",
       "0  0.222516  0.297566  0.813457  0.561085  0.574562  0.863797  0.099994   \n",
       "\n",
       "         7         8         9   ...        50        51        52        53  \\\n",
       "0  0.883532  0.216648  0.348896  ...  0.251932  0.673888  0.888065  0.737262   \n",
       "\n",
       "         54        55        56        57        58        59  \n",
       "0  0.070979  0.223358  0.256574  0.541928  0.442406  0.155804  \n",
       "\n",
       "[1 rows x 60 columns]"
      ]
     },
     "execution_count": 163,
     "metadata": {},
     "output_type": "execute_result"
    }
   ],
   "source": [
    "sample"
   ]
  },
  {
   "cell_type": "code",
   "execution_count": 165,
   "id": "99e47471",
   "metadata": {},
   "outputs": [
    {
     "data": {
      "text/plain": [
       "array(['M'], dtype=object)"
      ]
     },
     "execution_count": 165,
     "metadata": {},
     "output_type": "execute_result"
    }
   ],
   "source": [
    "grid_model.predict(sample) # M = Mina"
   ]
  },
  {
   "cell_type": "code",
   "execution_count": null,
   "id": "0499d58f",
   "metadata": {},
   "outputs": [],
   "source": []
  }
 ],
 "metadata": {
  "kernelspec": {
   "display_name": "Python 3 (ipykernel)",
   "language": "python",
   "name": "python3"
  },
  "language_info": {
   "codemirror_mode": {
    "name": "ipython",
    "version": 3
   },
   "file_extension": ".py",
   "mimetype": "text/x-python",
   "name": "python",
   "nbconvert_exporter": "python",
   "pygments_lexer": "ipython3",
   "version": "3.7.11"
  }
 },
 "nbformat": 4,
 "nbformat_minor": 5
}
